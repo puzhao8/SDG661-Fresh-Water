{
 "cells": [
  {
   "cell_type": "code",
   "execution_count": 58,
   "metadata": {},
   "outputs": [
    {
     "name": "stdout",
     "output_type": "stream",
     "text": [
      "\n",
      "----------------------- alpha: 2, p_thd: 0.05 --------------------------------------\n",
      "mean: -0.768410471435599, std: 14.397894467900349\n",
      "thd_low: -29.564199407236295, thd_high: 28.0273784643651\n",
      "before applying masked_basins: 19163\n",
      "after applying masked_basins: 13893\n",
      "number of masked basins: 5270\n"
     ]
    }
   ],
   "source": [
    "\n",
    "#%% Delta\n",
    "import geopandas as gpd\n",
    "import pandas as pd\n",
    "import numpy as np\n",
    "import warnings\n",
    "warnings.filterwarnings(\"ignore\")\n",
    "\n",
    "\"\"\" configuration \"\"\"\n",
    "folder = 'Permanent_water' # Permanent_water, Reservoirs\n",
    "area = 'permanent_area' # permanent_area, seasonal_area\n",
    "save_flag = True \n",
    "\n",
    "basin_level = 6 # basin level\n",
    "alpha = 2 # mean +/- alpha * std\n",
    "p_thd = 0.05\n",
    "\n",
    "df = pd.DataFrame([], columns=['folder', 'area', 'basin_level', 'alpha', 'p_thd', 'num_of_masked_basins', \n",
    "                                'thd_low', 'thd_high', 'method', 'neg', 'stable', 'pos'])\n",
    "df.to_csv(f'maps/{folder}_{area}.csv', mode='w')\n",
    "\n",
    "# for alpha in [1, 1.5, 2, 2.5, 3]:\n",
    "#     for p_thd in [0.01, 0.02, 0.025, 0.05]:\n",
    "\n",
    "print()\n",
    "print(f\"----------------------- alpha: {alpha}, p_thd: {p_thd} --------------------------------------\")\n",
    "\n",
    "\"\"\" delta \"\"\"\n",
    "delta = pd.read_csv(f\"outputs_delta/{folder}/{area}/basins_level_{basin_level}_ts_delta.csv\")\n",
    "delta = delta[delta['start_year']==2017]\n",
    "\n",
    "delta['PFAF_ID'] = delta['id_bgl'].transform(lambda id: eval(id.split(\"_\")[0]))\n",
    "delta['Country_ID'] = delta['id_bgl'].transform(lambda id: eval(id.split(\"_\")[-1]))\n",
    "# delta = delta[(delta['Country_ID'] == Country_ID)]  \n",
    "# df.set_index('PFAF_ID').dropna().to_csv(f'outputs_map/{folder}_basins_level_6_delta.csv')\n",
    "\n",
    "\"\"\" delta thresholds \"\"\"\n",
    "df_thd = pd.read_csv(f\"outputs_delta/{folder}/{area}/basin_level_mean_std.csv\").set_index('basin_level')\n",
    "mean = df_thd[f'mean_{area}'].loc[basin_level]\n",
    "std = df_thd[f'std_{area}'].loc[basin_level]\n",
    "print(f\"mean: {mean}, std: {std}\")\n",
    "\n",
    "thd_low = mean - alpha * std \n",
    "thd_high = mean + alpha * std \n",
    "print(f\"thd_low: {thd_low}, thd_high: {thd_high}\")\n",
    "\n",
    "def get_sign(x):\n",
    "    if x < thd_low: return -1.0\n",
    "    if x > thd_high: return 1.0\n",
    "    return 0.0\n",
    "\n",
    "delta['sign'] = delta[area].transform(get_sign)\n",
    "\n",
    "#%% U-TEST\n",
    "\n",
    "def get_u_sign(delta_value):\n",
    "    if delta_value < 0: return -1\n",
    "    elif delta_value > 0: return 1\n",
    "    else: return 0\n",
    "\n",
    "# p_thd = 0.05\n",
    "# min_area_thd = 0.01 \n",
    "u_test = pd.read_csv(f\"outputs_utest/{folder}/{area}/basins_level_{basin_level}_utest.csv\")\n",
    "u_test['u_flag'] = u_test['p_u'].transform(lambda x: float(x < p_thd)) # u_flag determines whether a basin change or not\n",
    "\n",
    "# u_test['u_sign'] = u_test['delta'].transform(lambda x: get_u_sign(x))\n",
    "# u_test['u_sign'][u_test['baseline_median'] < min_area_thd] = -99\n",
    "u_test['u_sign'][u_test['u_sign'] == -99] = 0\n",
    "u_test['u_sign'] = u_test['u_sign'] * u_test['u_flag']\n",
    "\n",
    "if 'id' in u_test.columns: u_test = u_test.rename(columns={'id': 'id_bgl'})\n",
    "\n",
    "u_test['PFAF_ID'] = u_test['id_bgl'].transform(lambda id: eval(id.split(\"_\")[0]))\n",
    "# u_test['u_sign'] = u_test['u_score'].transform(lambda x:  np.round(x / (abs(x) + 1e-3))) * u_test['u_sign']\n",
    "u_test = u_test.rename(columns={'id': 'id_bgl'})\n",
    "# df.set_index('PFAF_ID').dropna().to_csv(f'outputs_map/{folder}/basins_level_6_utest_p_thd_0_01.csv')\n",
    "# u_test\n",
    "\n",
    "#%% Merge DataFrame\n",
    "\n",
    "\"\"\" merge delta and utest \"\"\"\n",
    "delta_u = pd.merge(delta, u_test, on='id_bgl')\n",
    "delta_u = delta_u.rename(columns={'PFAF_ID_x': 'PFAF_ID'})\n",
    "\n",
    "# apply delta based mask on utest\n",
    "delta_u['delta_mask'] = 1\n",
    "delta_u['delta_mask'][(thd_low <= delta_u['delta']) & (delta_u['delta'] <= thd_high)] = 0\n",
    "delta_u['u_sign'] = delta_u['u_sign'] * delta_u['delta_mask']\n",
    "\n",
    "num_before_basin_masking = delta_u.shape[0]\n",
    "print(f\"before applying masked_basins: {num_before_basin_masking}\")\n",
    "\n",
    "masked_basins = gpd.read_file(\"data\\Masked__basins\\SNow_Arid_Mask.shp\")\n",
    "masked_basins['PFAF_ID_6'] = masked_basins['PFAF_ID_6'].transform(lambda x: eval(x))\n",
    "delta_u = delta_u[~delta_u['PFAF_ID'].isin(masked_basins['PFAF_ID_6'].unique())]\n",
    "# delta_u\n",
    "\n",
    "print(f\"after applying masked_basins: {delta_u.shape[0]}\")\n",
    "num_of_masked_basins = num_before_basin_masking - delta_u.shape[0]\n",
    "print(f\"number of masked basins: {num_of_masked_basins}\")"
   ]
  },
  {
   "cell_type": "code",
   "execution_count": 57,
   "metadata": {},
   "outputs": [
    {
     "name": "stdout",
     "output_type": "stream",
     "text": [
      "-0.0857345316429409\n",
      "1.753821090649771\n",
      "basin_level\n",
      "0    0.219480\n",
      "3   -0.096246\n",
      "4   -0.226419\n",
      "5   -0.131699\n",
      "6   -0.085735\n",
      "7   -0.020199\n",
      "8   -0.000777\n",
      "Name: mean_permanent_area, dtype: float64\n"
     ]
    }
   ],
   "source": [
    "print(df_thd[f'mean_{area}'].loc[basin_level])\n",
    "print(df_thd[f'std_{area}'].loc[basin_level])\n",
    "\n",
    "print(df_thd[f'mean_{area}'])\n"
   ]
  },
  {
   "cell_type": "code",
   "execution_count": 45,
   "metadata": {},
   "outputs": [
    {
     "name": "stdout",
     "output_type": "stream",
     "text": [
      "total_number_basins = 19163\n",
      "p_th: 0.01, numer of changed basins: 637, percentage: 3.32%\n",
      "p_th: 0.02, numer of changed basins: 889, percentage: 4.64%\n",
      "p_th: 0.025, numer of changed basins: 1029, percentage: 5.37%\n",
      "p_th: 0.05, numer of changed basins: 1357, percentage: 7.08%\n",
      "p_th: 0.1, numer of changed basins: 1661, percentage: 8.67%\n"
     ]
    },
    {
     "data": {
      "text/plain": [
       "<Axes: title={'center': 'p_u/Reservoirs/permanent_area'}, ylabel='Frequency'>"
      ]
     },
     "execution_count": 45,
     "metadata": {},
     "output_type": "execute_result"
    },
    {
     "data": {
      "image/png": "[encoded data removed]",
      "text/plain": [
       "<Figure size 640x480 with 1 Axes>"
      ]
     },
     "metadata": {},
     "output_type": "display_data"
    }
   ],
   "source": [
    "print(f'total_number_basins = {u_test.shape[0]}')\n",
    "for p_th in [0.01, 0.02, 0.025, 0.05, 0.1]:\n",
    "    num_of_change_basins = u_test[u_test['p_u'] < p_th].shape[0]\n",
    "    print(f\"p_th: {p_th}, numer of changed basins: {num_of_change_basins}, percentage: {num_of_change_basins / u_test.shape[0] *100:.2f}%\")\n",
    "\n",
    "u_test['p_u'].plot(kind='hist', bins=200, logy=True, title=f'p_u/{folder}/{area}')"
   ]
  },
  {
   "cell_type": "code",
   "execution_count": null,
   "metadata": {},
   "outputs": [],
   "source": []
  },
  {
   "cell_type": "code",
   "execution_count": 46,
   "metadata": {},
   "outputs": [
    {
     "data": {
      "text/plain": [
       "<Axes: ylabel='Frequency'>"
      ]
     },
     "execution_count": 46,
     "metadata": {},
     "output_type": "execute_result"
    },
    {
     "data": {
      "image/png": "[encoded data removed]",
      "text/plain": [
       "<Figure size 640x480 with 1 Axes>"
      ]
     },
     "metadata": {},
     "output_type": "display_data"
    }
   ],
   "source": [
    "\n",
    "delta[delta[area] < 100][area].plot(kind='hist', bins=200, logy=True)"
   ]
  },
  {
   "cell_type": "code",
   "execution_count": 35,
   "metadata": {},
   "outputs": [
    {
     "data": {
      "text/plain": [
       "<Axes: ylabel='Frequency'>"
      ]
     },
     "execution_count": 35,
     "metadata": {},
     "output_type": "execute_result"
    },
    {
     "data": {
      "image/png": "[encoded data removed]",
      "text/plain": [
       "<Figure size 640x480 with 1 Axes>"
      ]
     },
     "metadata": {},
     "output_type": "display_data"
    }
   ],
   "source": [
    "delta[delta[area] < 500][area].plot(kind='hist', bins=200, logy=True)"
   ]
  },
  {
   "cell_type": "code",
   "execution_count": 33,
   "metadata": {},
   "outputs": [
    {
     "data": {
      "text/html": [
       "<div>\n",
       "<style scoped>\n",
       "    .dataframe tbody tr th:only-of-type {\n",
       "        vertical-align: middle;\n",
       "    }\n",
       "\n",
       "    .dataframe tbody tr th {\n",
       "        vertical-align: top;\n",
       "    }\n",
       "\n",
       "    .dataframe thead th {\n",
       "        text-align: right;\n",
       "    }\n",
       "</style>\n",
       "<table border=\"1\" class=\"dataframe\">\n",
       "  <thead>\n",
       "    <tr style=\"text-align: right;\">\n",
       "      <th></th>\n",
       "      <th>start_year</th>\n",
       "      <th>basin_level</th>\n",
       "      <th>seasonal_area</th>\n",
       "      <th>PFAF_ID</th>\n",
       "      <th>Country_ID</th>\n",
       "      <th>sign</th>\n",
       "    </tr>\n",
       "  </thead>\n",
       "  <tbody>\n",
       "    <tr>\n",
       "      <th>count</th>\n",
       "      <td>18215.0</td>\n",
       "      <td>18215.0</td>\n",
       "      <td>18215.000000</td>\n",
       "      <td>18215.000000</td>\n",
       "      <td>18215.000000</td>\n",
       "      <td>18215.000000</td>\n",
       "    </tr>\n",
       "    <tr>\n",
       "      <th>mean</th>\n",
       "      <td>2017.0</td>\n",
       "      <td>6.0</td>\n",
       "      <td>45.025099</td>\n",
       "      <td>434593.860280</td>\n",
       "      <td>405.992094</td>\n",
       "      <td>0.272632</td>\n",
       "    </tr>\n",
       "    <tr>\n",
       "      <th>std</th>\n",
       "      <td>0.0</td>\n",
       "      <td>0.0</td>\n",
       "      <td>75.380838</td>\n",
       "      <td>230848.086296</td>\n",
       "      <td>285.552477</td>\n",
       "      <td>0.481918</td>\n",
       "    </tr>\n",
       "    <tr>\n",
       "      <th>min</th>\n",
       "      <td>2017.0</td>\n",
       "      <td>6.0</td>\n",
       "      <td>-100.000000</td>\n",
       "      <td>111011.000000</td>\n",
       "      <td>4.000000</td>\n",
       "      <td>-1.000000</td>\n",
       "    </tr>\n",
       "    <tr>\n",
       "      <th>25%</th>\n",
       "      <td>2017.0</td>\n",
       "      <td>6.0</td>\n",
       "      <td>1.839306</td>\n",
       "      <td>227208.500000</td>\n",
       "      <td>124.000000</td>\n",
       "      <td>0.000000</td>\n",
       "    </tr>\n",
       "    <tr>\n",
       "      <th>50%</th>\n",
       "      <td>2017.0</td>\n",
       "      <td>6.0</td>\n",
       "      <td>23.262341</td>\n",
       "      <td>434694.000000</td>\n",
       "      <td>398.000000</td>\n",
       "      <td>0.000000</td>\n",
       "    </tr>\n",
       "    <tr>\n",
       "      <th>75%</th>\n",
       "      <td>2017.0</td>\n",
       "      <td>6.0</td>\n",
       "      <td>58.441324</td>\n",
       "      <td>631040.000000</td>\n",
       "      <td>643.000000</td>\n",
       "      <td>1.000000</td>\n",
       "    </tr>\n",
       "    <tr>\n",
       "      <th>max</th>\n",
       "      <td>2017.0</td>\n",
       "      <td>6.0</td>\n",
       "      <td>499.988432</td>\n",
       "      <td>999999.000000</td>\n",
       "      <td>1098.000000</td>\n",
       "      <td>1.000000</td>\n",
       "    </tr>\n",
       "  </tbody>\n",
       "</table>\n",
       "</div>"
      ],
      "text/plain": [
       "       start_year  basin_level  seasonal_area        PFAF_ID    Country_ID  \\\n",
       "count     18215.0      18215.0   18215.000000   18215.000000  18215.000000   \n",
       "mean       2017.0          6.0      45.025099  434593.860280    405.992094   \n",
       "std           0.0          0.0      75.380838  230848.086296    285.552477   \n",
       "min        2017.0          6.0    -100.000000  111011.000000      4.000000   \n",
       "25%        2017.0          6.0       1.839306  227208.500000    124.000000   \n",
       "50%        2017.0          6.0      23.262341  434694.000000    398.000000   \n",
       "75%        2017.0          6.0      58.441324  631040.000000    643.000000   \n",
       "max        2017.0          6.0     499.988432  999999.000000   1098.000000   \n",
       "\n",
       "               sign  \n",
       "count  18215.000000  \n",
       "mean       0.272632  \n",
       "std        0.481918  \n",
       "min       -1.000000  \n",
       "25%        0.000000  \n",
       "50%        0.000000  \n",
       "75%        1.000000  \n",
       "max        1.000000  "
      ]
     },
     "execution_count": 33,
     "metadata": {},
     "output_type": "execute_result"
    }
   ],
   "source": [
    "delta[delta[area] < 500].describe()"
   ]
  },
  {
   "cell_type": "code",
   "execution_count": 31,
   "metadata": {},
   "outputs": [
    {
     "name": "stdout",
     "output_type": "stream",
     "text": [
      "mean 21.4147691405505\n",
      "std 31.48910335147447\n",
      "mean 21.4147691405505\n",
      "std 31.48910335147447\n"
     ]
    }
   ],
   "source": [
    "cut = 100\n",
    "# 2.7263803080211018\t23.98469613362817\n",
    "\n",
    "\n",
    "print('mean', delta[(delta[area] < cut) & (delta[area] > -cut)][area].mean())\n",
    "print('std', delta[(delta[area] < cut) & (delta[area] > -cut)][area].std())\n"
   ]
  },
  {
   "cell_type": "code",
   "execution_count": 20,
   "metadata": {},
   "outputs": [
    {
     "data": {
      "text/plain": [
       "1.7589873796749584"
      ]
     },
     "execution_count": 20,
     "metadata": {},
     "output_type": "execute_result"
    }
   ],
   "source": [
    "delta[(delta[area] < 100) & (delta[area] > -100)][area].mean()"
   ]
  }
 ],
 "metadata": {
  "kernelspec": {
   "display_name": "base",
   "language": "python",
   "name": "python3"
  },
  "language_info": {
   "codemirror_mode": {
    "name": "ipython",
    "version": 3
   },
   "file_extension": ".py",
   "mimetype": "text/x-python",
   "name": "python",
   "nbconvert_exporter": "python",
   "pygments_lexer": "ipython3",
   "version": "3.9.15"
  }
 },
 "nbformat": 4,
 "nbformat_minor": 2
}
